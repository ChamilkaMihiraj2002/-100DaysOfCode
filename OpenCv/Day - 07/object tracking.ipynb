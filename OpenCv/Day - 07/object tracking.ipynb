{
 "cells": [
  {
   "cell_type": "code",
   "execution_count": 1,
   "metadata": {},
   "outputs": [],
   "source": [
    "import urllib\n",
    "\n",
    "import os\n",
    "import sys\n",
    "import cv2\n",
    "import numpy as np\n",
    "import matplotlib.pyplot as plt\n",
    "\n",
    "from zipfile import ZipFile\n",
    "from urllib.request import urlretrieve\n",
    "\n",
    "from IPython.display import HTML\n",
    "from matplotlib.animation import FuncAnimation\n",
    "\n",
    "from IPython.display import YouTubeVideo, display, HTML\n",
    "from base64 import b64encode\n",
    "\n",
    "%matplotlib inline"
   ]
  },
  {
   "cell_type": "markdown",
   "metadata": {},
   "source": [
    "Download Files"
   ]
  },
  {
   "cell_type": "code",
   "execution_count": 2,
   "metadata": {},
   "outputs": [],
   "source": [
    "def download_and_unzip(url, save_path):\n",
    "    print(f\"Downloading and extracting assests....\", end=\"\")\n",
    "\n",
    "    # Downloading zip file using urllib package.\n",
    "    urlretrieve(url, save_path)\n",
    "\n",
    "    try:\n",
    "        # Extracting zip file using the zipfile package.\n",
    "        with ZipFile(save_path) as z:\n",
    "            # Extract ZIP file contents in the same directory.\n",
    "            z.extractall(os.path.split(save_path)[0])\n",
    "\n",
    "        print(\"Done\")\n",
    "\n",
    "    except Exception as e:\n",
    "        print(\"\\nInvalid file.\", e)"
   ]
  },
  {
   "cell_type": "code",
   "execution_count": 12,
   "metadata": {},
   "outputs": [],
   "source": [
    "URL = r\"https://www.dropbox.com/s/ld535c8e0vueq6x/opencv_bootcamp_assets_NB11.zip?dl=1\"\n",
    "\n",
    "asset_zip_path = os.path.join(os.getcwd(), \"opencv_bootcamp_assets_NB11.zip\")\n",
    "\n",
    "# Download if assest ZIP does not exists.\n",
    "if not os.path.exists(asset_zip_path):\n",
    "    download_and_unzip(URL, asset_zip_path)"
   ]
  },
  {
   "cell_type": "markdown",
   "metadata": {},
   "source": [
    "Tracker Class in OpenCV\n",
    "    BOOSTING\n",
    "    MIL\n",
    "    KCF\n",
    "    CRST\n",
    "    TLD\n",
    "        Tends to recover from occulusions\n",
    "\n",
    "MEDIANFLOW\n",
    "    Good for predictable slow motion\n",
    "\n",
    "GOTURN\n",
    "    Deep Learning based\n",
    "    Most Accurate\n",
    "\n",
    "MOSSE\n",
    "    Fastest"
   ]
  },
  {
   "cell_type": "code",
   "execution_count": 5,
   "metadata": {},
   "outputs": [
    {
     "data": {
      "image/jpeg": "[encoded data removed]",
      "text/html": [
       "\n",
       "        <iframe\n",
       "            width=\"1024\"\n",
       "            height=\"640\"\n",
       "            src=\"https://www.youtube.com/embed/XkJCvtCRdVM\"\n",
       "            frameborder=\"0\"\n",
       "            allowfullscreen\n",
       "            \n",
       "        ></iframe>\n",
       "        "
      ],
      "text/plain": [
       "<IPython.lib.display.YouTubeVideo at 0x18375ca5450>"
      ]
     },
     "metadata": {},
     "output_type": "display_data"
    }
   ],
   "source": [
    "video = YouTubeVideo(\"XkJCvtCRdVM\", width=1024, height=640)\n",
    "display(video)"
   ]
  },
  {
   "cell_type": "code",
   "execution_count": 6,
   "metadata": {},
   "outputs": [],
   "source": [
    "video_input_file_name = \"race_car.mp4\"\n",
    "\n",
    "\n",
    "def drawRectangle(frame, bbox):\n",
    "    p1 = (int(bbox[0]), int(bbox[1]))\n",
    "    p2 = (int(bbox[0] + bbox[2]), int(bbox[1] + bbox[3]))\n",
    "    cv2.rectangle(frame, p1, p2, (255, 0, 0), 2, 1)\n",
    "\n",
    "\n",
    "def displayRectangle(frame, bbox):\n",
    "    plt.figure(figsize=(20, 10))\n",
    "    frameCopy = frame.copy()\n",
    "    drawRectangle(frameCopy, bbox)\n",
    "    frameCopy = cv2.cvtColor(frameCopy, cv2.COLOR_RGB2BGR)\n",
    "    plt.imshow(frameCopy)\n",
    "    plt.axis(\"off\")\n",
    "\n",
    "\n",
    "def drawText(frame, txt, location, color=(50, 170, 50)):\n",
    "    cv2.putText(frame, txt, location, cv2.FONT_HERSHEY_SIMPLEX, 1, color, 3)"
   ]
  },
  {
   "cell_type": "markdown",
   "metadata": {},
   "source": [
    "GOTURN Tracker"
   ]
  },
  {
   "cell_type": "markdown",
   "metadata": {},
   "source": [
    "![alt text](image.png)"
   ]
  },
  {
   "cell_type": "markdown",
   "metadata": {},
   "source": [
    "Create the Tracker instance"
   ]
  },
  {
   "cell_type": "code",
   "execution_count": 7,
   "metadata": {},
   "outputs": [],
   "source": [
    "# Set up tracker\n",
    "tracker_types = [\n",
    "    \"BOOSTING\",\n",
    "    \"MIL\",\n",
    "    \"KCF\",\n",
    "    \"CSRT\",\n",
    "    \"TLD\",\n",
    "    \"MEDIANFLOW\",\n",
    "    \"GOTURN\",\n",
    "    \"MOSSE\",\n",
    "]\n",
    "\n",
    "# Change the index to change the tracker type\n",
    "tracker_type = tracker_types[2]\n",
    "\n",
    "if tracker_type == \"BOOSTING\":\n",
    "    tracker = cv2.legacy.TrackerBoosting.create()\n",
    "elif tracker_type == \"MIL\":\n",
    "    tracker = cv2.legacy.TrackerMIL.create()\n",
    "elif tracker_type == \"KCF\":\n",
    "    tracker = cv2.TrackerKCF.create()\n",
    "elif tracker_type == \"CSRT\":\n",
    "    tracker = cv2.TrackerCSRT.create()\n",
    "elif tracker_type == \"TLD\":\n",
    "    tracker = cv2.legacy.TrackerTLD.create()\n",
    "elif tracker_type == \"MEDIANFLOW\":\n",
    "    tracker = cv2.legacy.TrackerMedianFlow.create()\n",
    "elif tracker_type == \"GOTURN\":\n",
    "    tracker = cv2.TrackerGOTURN.create()\n",
    "else:\n",
    "    tracker = cv2.legacy.TrackerMOSSE.create()"
   ]
  },
  {
   "cell_type": "markdown",
   "metadata": {},
   "source": [
    "Read input video & Setup output Video"
   ]
  },
  {
   "cell_type": "code",
   "execution_count": 13,
   "metadata": {},
   "outputs": [
    {
     "name": "stdout",
     "output_type": "stream",
     "text": [
      "Could not open video\n"
     ]
    },
    {
     "ename": "SystemExit",
     "evalue": "",
     "output_type": "error",
     "traceback": [
      "An exception has occurred, use %tb to see the full traceback.\n",
      "\u001b[1;31mSystemExit\u001b[0m\n"
     ]
    }
   ],
   "source": [
    "# Read video\n",
    "video = cv2.VideoCapture(video_input_file_name)\n",
    "ok, frame = video.read()\n",
    "\n",
    "# Exit if video not opened\n",
    "if not video.isOpened():\n",
    "    print(\"Could not open video\")\n",
    "    sys.exit()\n",
    "else:\n",
    "    width = int(video.get(cv2.CAP_PROP_FRAME_WIDTH))\n",
    "    height = int(video.get(cv2.CAP_PROP_FRAME_HEIGHT))\n",
    "\n",
    "video_output_file_name = \"race_car-\" + tracker_type + \".mp4\"\n",
    "video_out = cv2.VideoWriter(video_output_file_name, cv2.VideoWriter_fourcc(*\"XVID\"), 10, (width, height))\n",
    "\n",
    "video_output_file_name"
   ]
  },
  {
   "cell_type": "markdown",
   "metadata": {},
   "source": [
    "Define Bounding Box"
   ]
  },
  {
   "cell_type": "code",
   "execution_count": 14,
   "metadata": {},
   "outputs": [
    {
     "ename": "AttributeError",
     "evalue": "'NoneType' object has no attribute 'copy'",
     "output_type": "error",
     "traceback": [
      "\u001b[1;31m---------------------------------------------------------------------------\u001b[0m",
      "\u001b[1;31mAttributeError\u001b[0m                            Traceback (most recent call last)",
      "Cell \u001b[1;32mIn[14], line 5\u001b[0m\n\u001b[0;32m      2\u001b[0m bbox \u001b[38;5;241m=\u001b[39m (\u001b[38;5;241m1300\u001b[39m, \u001b[38;5;241m405\u001b[39m, \u001b[38;5;241m160\u001b[39m, \u001b[38;5;241m120\u001b[39m)\n\u001b[0;32m      3\u001b[0m \u001b[38;5;66;03m# bbox = cv2.selectROI(frame, False)\u001b[39;00m\n\u001b[0;32m      4\u001b[0m \u001b[38;5;66;03m# print(bbox)\u001b[39;00m\n\u001b[1;32m----> 5\u001b[0m \u001b[43mdisplayRectangle\u001b[49m\u001b[43m(\u001b[49m\u001b[43mframe\u001b[49m\u001b[43m,\u001b[49m\u001b[43m \u001b[49m\u001b[43mbbox\u001b[49m\u001b[43m)\u001b[49m\n",
      "Cell \u001b[1;32mIn[6], line 12\u001b[0m, in \u001b[0;36mdisplayRectangle\u001b[1;34m(frame, bbox)\u001b[0m\n\u001b[0;32m     10\u001b[0m \u001b[38;5;28;01mdef\u001b[39;00m \u001b[38;5;21mdisplayRectangle\u001b[39m(frame, bbox):\n\u001b[0;32m     11\u001b[0m     plt\u001b[38;5;241m.\u001b[39mfigure(figsize\u001b[38;5;241m=\u001b[39m(\u001b[38;5;241m20\u001b[39m, \u001b[38;5;241m10\u001b[39m))\n\u001b[1;32m---> 12\u001b[0m     frameCopy \u001b[38;5;241m=\u001b[39m \u001b[43mframe\u001b[49m\u001b[38;5;241;43m.\u001b[39;49m\u001b[43mcopy\u001b[49m()\n\u001b[0;32m     13\u001b[0m     drawRectangle(frameCopy, bbox)\n\u001b[0;32m     14\u001b[0m     frameCopy \u001b[38;5;241m=\u001b[39m cv2\u001b[38;5;241m.\u001b[39mcvtColor(frameCopy, cv2\u001b[38;5;241m.\u001b[39mCOLOR_RGB2BGR)\n",
      "\u001b[1;31mAttributeError\u001b[0m: 'NoneType' object has no attribute 'copy'"
     ]
    },
    {
     "data": {
      "text/plain": [
       "<Figure size 2000x1000 with 0 Axes>"
      ]
     },
     "metadata": {},
     "output_type": "display_data"
    }
   ],
   "source": [
    "# Define a bounding box\n",
    "bbox = (1300, 405, 160, 120)\n",
    "# bbox = cv2.selectROI(frame, False)\n",
    "# print(bbox)\n",
    "displayRectangle(frame, bbox)"
   ]
  }
 ],
 "metadata": {
  "kernelspec": {
   "display_name": "Python 3",
   "language": "python",
   "name": "python3"
  },
  "language_info": {
   "codemirror_mode": {
    "name": "ipython",
    "version": 3
   },
   "file_extension": ".py",
   "mimetype": "text/x-python",
   "name": "python",
   "nbconvert_exporter": "python",
   "pygments_lexer": "ipython3",
   "version": "3.11.2"
  }
 },
 "nbformat": 4,
 "nbformat_minor": 2
}
